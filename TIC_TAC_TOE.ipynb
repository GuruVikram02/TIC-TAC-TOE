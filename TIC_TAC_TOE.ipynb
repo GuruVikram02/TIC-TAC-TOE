{
 "cells": [
  {
   "cell_type": "code",
   "execution_count": 1,
   "id": "45adaa50",
   "metadata": {},
   "outputs": [],
   "source": [
    "from IPython.display import clear_output\n",
    "\n",
    "def display(b):\n",
    "    print(b[1]+\"|\"+b[2]+\"|\"+b[3]) \n",
    "    print(\"-----\")\n",
    "    print(b[4]+\"|\"+b[5]+\"|\"+b[6]) \n",
    "    print(\"-----\")\n",
    "    print(b[7]+\"|\"+b[8]+\"|\"+b[9]) \n",
    "    \n",
    "    pass\n"
   ]
  },
  {
   "cell_type": "code",
   "execution_count": 2,
   "id": "088118fa",
   "metadata": {},
   "outputs": [
    {
     "name": "stdout",
     "output_type": "stream",
     "text": [
      " | | \n",
      "-----\n",
      " | | \n",
      "-----\n",
      " | | \n"
     ]
    }
   ],
   "source": [
    "test_board = [' ']*10\n",
    "display(test_board)"
   ]
  },
  {
   "cell_type": "code",
   "execution_count": 3,
   "id": "a5268c22",
   "metadata": {},
   "outputs": [],
   "source": [
    "from IPython.display import clear_output \n",
    "\n",
    "def player_input():\n",
    "    marker=''\n",
    "    while not (marker==\"X\" or marker==\"O\"):\n",
    "        marker=input(\"Do you want to be X OR O--> \").upper()\n",
    "        \n",
    "    if marker=='X':\n",
    "        return('X','O')\n",
    "    else:\n",
    "        return(\"O\",\"X\")\n",
    "    "
   ]
  },
  {
   "cell_type": "code",
   "execution_count": 4,
   "id": "15189f22",
   "metadata": {},
   "outputs": [
    {
     "name": "stdout",
     "output_type": "stream",
     "text": [
      "Do you want to be X OR O--> x\n"
     ]
    },
    {
     "data": {
      "text/plain": [
       "('X', 'O')"
      ]
     },
     "execution_count": 4,
     "metadata": {},
     "output_type": "execute_result"
    }
   ],
   "source": [
    "player_input()\n",
    "\n"
   ]
  },
  {
   "cell_type": "code",
   "execution_count": 5,
   "id": "5783eb0e",
   "metadata": {},
   "outputs": [],
   "source": [
    "def place_marker(board, marker, position):\n",
    "    board[position]=marker"
   ]
  },
  {
   "cell_type": "code",
   "execution_count": 6,
   "id": "36878615",
   "metadata": {},
   "outputs": [
    {
     "name": "stdout",
     "output_type": "stream",
     "text": [
      " | | \n",
      "-----\n",
      " | | \n",
      "-----\n",
      " |O| \n"
     ]
    }
   ],
   "source": [
    "place_marker(test_board, \"O\", 8)\n",
    "display(test_board)"
   ]
  },
  {
   "cell_type": "code",
   "execution_count": 7,
   "id": "e611e8b3",
   "metadata": {},
   "outputs": [],
   "source": [
    "def win_check(board, mark):\n",
    "    return( board[1]== mark and board[2]==mark and board[3]==mark or \n",
    "           board[4]== mark and board[5]==mark and board[6]==mark or\n",
    "           board[7]== mark and board[8]==mark and board[9]==mark or\n",
    "           board[1]== mark and board[4]==mark and board[7]==mark or\n",
    "           board[2]== mark and board[5]==mark and board[8]==mark or\n",
    "           board[3]== mark and board[6]==mark and board[9]==mark or\n",
    "           board[1]== mark and board[5]==mark and board[9]==mark or\n",
    "           board[7]== mark and board[5]==mark and board[3]==mark)\n",
    "           "
   ]
  },
  {
   "cell_type": "code",
   "execution_count": 8,
   "id": "e1f0c4b8",
   "metadata": {},
   "outputs": [
    {
     "data": {
      "text/plain": [
       "False"
      ]
     },
     "execution_count": 8,
     "metadata": {},
     "output_type": "execute_result"
    }
   ],
   "source": [
    "win_check(test_board, 'X')"
   ]
  },
  {
   "cell_type": "code",
   "execution_count": 9,
   "id": "f22166bd",
   "metadata": {},
   "outputs": [],
   "source": [
    "\n",
    "\n",
    "def choose_first():\n",
    "    import random\n",
    "    turn=\"\"\n",
    "    if random.randint(0,1)==0:\n",
    "        turn+=\"p1\"\n",
    "        print(\"Player 1 will go first\")\n",
    "    else:\n",
    "        turn+=\"p2\"\n",
    "        print(\"Player 2 will go first\")\n",
    "        \n",
    "    return turn\n",
    "    "
   ]
  },
  {
   "cell_type": "code",
   "execution_count": 10,
   "id": "29e7e705",
   "metadata": {},
   "outputs": [
    {
     "name": "stdout",
     "output_type": "stream",
     "text": [
      "Player 1 will go first\n"
     ]
    },
    {
     "data": {
      "text/plain": [
       "'p1'"
      ]
     },
     "execution_count": 10,
     "metadata": {},
     "output_type": "execute_result"
    }
   ],
   "source": [
    "choose_first()\n"
   ]
  },
  {
   "cell_type": "code",
   "execution_count": 11,
   "id": "9a844b44",
   "metadata": {},
   "outputs": [],
   "source": [
    "def space_check(board, position):\n",
    "    if board[position]==\" \":\n",
    "        return \"space available\"\n",
    "    \n",
    "    return\"Filled\""
   ]
  },
  {
   "cell_type": "code",
   "execution_count": 12,
   "id": "f7ac327b",
   "metadata": {},
   "outputs": [
    {
     "data": {
      "text/plain": [
       "'space available'"
      ]
     },
     "execution_count": 12,
     "metadata": {},
     "output_type": "execute_result"
    }
   ],
   "source": [
    "space_check(test_board, 4)\n"
   ]
  },
  {
   "cell_type": "code",
   "execution_count": 13,
   "id": "76798407",
   "metadata": {},
   "outputs": [],
   "source": [
    "def full_board_check(board):\n",
    "    for i in range(1,len(board)):\n",
    "        if board[i]==\" \":\n",
    "            return False\n",
    "    return True\n",
    "        "
   ]
  },
  {
   "cell_type": "code",
   "execution_count": 14,
   "id": "460c21d2",
   "metadata": {},
   "outputs": [
    {
     "data": {
      "text/plain": [
       "False"
      ]
     },
     "execution_count": 14,
     "metadata": {},
     "output_type": "execute_result"
    }
   ],
   "source": [
    "full_board_check(test_board)"
   ]
  },
  {
   "cell_type": "code",
   "execution_count": 15,
   "id": "e7a33946",
   "metadata": {},
   "outputs": [],
   "source": [
    "def player_choice(board):\n",
    "    num=True\n",
    "    while num:\n",
    "        choice=int(input(\"Enter a number between 1-9-->>\"))\n",
    "        if choice>0 and choice<10:\n",
    "            num=False\n",
    "        else:\n",
    "            print(\"Wrong choice\")\n",
    "#         if space_check(board,choice)==\"Filled\":\n",
    "#             print(\"Choose the position thats free :\")\n",
    "    if space_check(board,choice) ==\"space available\":\n",
    "        return choice\n",
    "    else:\n",
    "        print(\"Choose the position thats free :\")\n",
    "        return player_choice(board)\n",
    "    "
   ]
  },
  {
   "cell_type": "code",
   "execution_count": 16,
   "id": "a5bc6de6",
   "metadata": {},
   "outputs": [
    {
     "name": "stdout",
     "output_type": "stream",
     "text": [
      "Enter a number between 1-9-->>3\n",
      " | | \n",
      "-----\n",
      " | | \n",
      "-----\n",
      " |O| \n"
     ]
    }
   ],
   "source": [
    "player_choice(test_board)\n",
    "display(test_board)"
   ]
  },
  {
   "cell_type": "code",
   "execution_count": 17,
   "id": "43bddceb",
   "metadata": {},
   "outputs": [],
   "source": [
    "def replay():\n",
    "    replay=True\n",
    "    \n",
    "    while replay:\n",
    "        yesOrno=input(\"Please Enter 'Y' if you need to continue or 'N' to quit \").upper()\n",
    "        if yesOrno == 'Y' or yesOrno =='N':\n",
    "            if yesOrno=='Y':\n",
    "                return True\n",
    "            else:\n",
    "                return False\n",
    "        else:\n",
    "            print(\"Wrong choice either choose Y or N :\")"
   ]
  },
  {
   "cell_type": "code",
   "execution_count": 18,
   "id": "9e6c99f1",
   "metadata": {},
   "outputs": [
    {
     "name": "stdout",
     "output_type": "stream",
     "text": [
      "Please Enter 'Y' if you need to continue or 'N' to quit y\n"
     ]
    },
    {
     "data": {
      "text/plain": [
       "True"
      ]
     },
     "execution_count": 18,
     "metadata": {},
     "output_type": "execute_result"
    }
   ],
   "source": [
    "replay()\n"
   ]
  },
  {
   "cell_type": "code",
   "execution_count": 21,
   "id": "d0c30ed0",
   "metadata": {},
   "outputs": [
    {
     "name": "stdout",
     "output_type": "stream",
     "text": [
      "Welcome to Tic Tac Toe!\n",
      "Do you want to be X OR O--> x\n",
      "Player 1 will go first\n",
      "Are you ready to play the game : Yes or Noyes\n",
      " | | \n",
      "-----\n",
      " | | \n",
      "-----\n",
      " | | \n",
      "Enter a number between 1-9-->>1\n",
      "X| | \n",
      "-----\n",
      " | | \n",
      "-----\n",
      " | | \n",
      "Enter a number between 1-9-->>2\n",
      "X|O| \n",
      "-----\n",
      " | | \n",
      "-----\n",
      " | | \n",
      "Enter a number between 1-9-->>5\n",
      "X|O| \n",
      "-----\n",
      " |X| \n",
      "-----\n",
      " | | \n",
      "Enter a number between 1-9-->>6\n",
      "X|O| \n",
      "-----\n",
      " |X|O\n",
      "-----\n",
      " | | \n",
      "Enter a number between 1-9-->>9\n",
      "X|O| \n",
      "-----\n",
      " |X|O\n",
      "-----\n",
      " | |X\n",
      "Congrats you are the winner Player1\n",
      "Please Enter 'Y' if you need to continue or 'N' to quit n\n"
     ]
    }
   ],
   "source": [
    "print('Welcome to Tic Tac Toe!')\n",
    "\n",
    "while True:\n",
    "    newBoard=[\" \"]*10\n",
    "    player1,player2=player_input()\n",
    "    turn=choose_first()\n",
    "    flag=True\n",
    "    while flag:\n",
    "        start=input(\"Are you ready to play the game : Yes or No\").lower()\n",
    "        if start[0]==\"y\":\n",
    "            game_on=True\n",
    "            flag=False\n",
    "        elif start[0]=='n':\n",
    "            game_on=False\n",
    "            flag=False\n",
    "        else:\n",
    "            print(\"Invalid choice\")\n",
    "        \n",
    "    while game_on:\n",
    "        if turn == \"p1\":\n",
    "            display(newBoard)\n",
    "            position= player_choice(newBoard)\n",
    "            marker=player1\n",
    "            place_marker(newBoard, marker, position)\n",
    "            winner=win_check(newBoard, marker)\n",
    "            if winner==True:\n",
    "                    display(newBoard)\n",
    "                    print(\"Congrats you are the winner Player1\")\n",
    "                    game_on=False\n",
    "            else:\n",
    "                if(full_board_check(newBoard)):\n",
    "                    display(newBoard)\n",
    "                    print(\"The game is draw\")\n",
    "                    break\n",
    "                else:\n",
    "                    turn=\"p2\"\n",
    "        else:\n",
    "            display(newBoard)\n",
    "            position= player_choice(newBoard)\n",
    "            marker=player2\n",
    "            place_marker(newBoard, marker, position)\n",
    "            winner=win_check(newBoard, marker)\n",
    "            if winner==True:\n",
    "                    display(newBoard)\n",
    "                    print(\"Congrats you are the winner Player2\")\n",
    "                    game_on=False\n",
    "            else:\n",
    "                if(full_board_check(newBoard)):\n",
    "                    display(newBoard)\n",
    "                    print(\"The game is draw\")\n",
    "                    break\n",
    "                else:\n",
    "                    turn=\"p1\"\n",
    "    if not replay():\n",
    "        break\n",
    "                \n",
    "    "
   ]
  },
  {
   "cell_type": "markdown",
   "id": "da1bddd9",
   "metadata": {},
   "source": []
  },
  {
   "cell_type": "code",
   "execution_count": null,
   "id": "1c544075",
   "metadata": {},
   "outputs": [],
   "source": []
  }
 ],
 "metadata": {
  "kernelspec": {
   "display_name": "Python 3 (ipykernel)",
   "language": "python",
   "name": "python3"
  },
  "language_info": {
   "codemirror_mode": {
    "name": "ipython",
    "version": 3
   },
   "file_extension": ".py",
   "mimetype": "text/x-python",
   "name": "python",
   "nbconvert_exporter": "python",
   "pygments_lexer": "ipython3",
   "version": "3.10.9"
  }
 },
 "nbformat": 4,
 "nbformat_minor": 5
}
